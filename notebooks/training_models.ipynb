{
  "nbformat": 4,
  "nbformat_minor": 0,
  "metadata": {
    "colab": {
      "name": "training_models.ipynb",
      "provenance": [],
      "collapsed_sections": []
    },
    "kernelspec": {
      "name": "python3",
      "display_name": "Python 3"
    },
    "language_info": {
      "name": "python"
    }
  },
  "cells": [
    {
      "cell_type": "code",
      "execution_count": 42,
      "metadata": {
        "id": "_CyIn4di4j_a"
      },
      "outputs": [],
      "source": [
        "from sklearn.ensemble import RandomForestClassifier ,AdaBoostClassifier\n",
        "import pandas as pd\n",
        "from sklearn.model_selection import train_test_split\n",
        "from sklearn.metrics import accuracy_score\n",
        "from sklearn.metrics import f1_score\n",
        "from sklearn.model_selection import GridSearchCV\n",
        "from sklearn.linear_model import LogisticRegression\n",
        "from sklearn.preprocessing import LabelEncoder\n",
        "from sklearn.metrics import confusion_matrix\n",
        "from sklearn.metrics import plot_confusion_matrix\n",
        "from sklearn.metrics import classification_report\n",
        "import warnings\n",
        "warnings.filterwarnings(\"ignore\")\n",
        "import pickle\n"
      ]
    },
    {
      "cell_type": "code",
      "source": [
        "data = pd.read_csv('/content/training_dataset.csv')"
      ],
      "metadata": {
        "id": "_wsw4PP_5q_8"
      },
      "execution_count": 43,
      "outputs": []
    },
    {
      "cell_type": "code",
      "source": [
        "data"
      ],
      "metadata": {
        "colab": {
          "base_uri": "https://localhost:8080/",
          "height": 424
        },
        "id": "xz2_jfR-5zcr",
        "outputId": "13f8abbf-2755-43c4-e2fc-30f9d05c3caf"
      },
      "execution_count": 34,
      "outputs": [
        {
          "output_type": "execute_result",
          "data": {
            "text/plain": [
              "       timestamp  FQDN_count  subdomain_length  upper  lower  numeric  \\\n",
              "0        58:50.7          24                 7      0     10        8   \n",
              "1        58:50.3          24                 7      0     10        8   \n",
              "2        58:49.9          26                 9      0     10       10   \n",
              "3        58:49.5          26                 9      0     10       10   \n",
              "4        58:49.1          27                10      0     10       11   \n",
              "...          ...         ...               ...    ...    ...      ...   \n",
              "536133   18:56.6          27                10      0     10       11   \n",
              "536134   18:56.2          27                10      0     10       11   \n",
              "536135   18:55.8          25                 8      0     10        9   \n",
              "536136   18:55.4          25                 8      0     10        9   \n",
              "536137   18:55.0          27                10      0     10       11   \n",
              "\n",
              "         entropy  special  labels  labels_max  labels_average longest_word  \\\n",
              "0       2.054029        6       6           7        3.166667            4   \n",
              "1       2.054029        6       6           7        3.166667            4   \n",
              "2       2.742338        6       6           7        3.500000            2   \n",
              "3       2.742338        6       6           7        3.500000            2   \n",
              "4       2.767195        6       6           7        3.666667            2   \n",
              "...          ...      ...     ...         ...             ...          ...   \n",
              "536133  2.767195        6       6           7        3.666667            2   \n",
              "536134  2.767195        6       6           7        3.666667            2   \n",
              "536135  2.556642        6       6           7        3.333333            2   \n",
              "536136  2.556642        6       6           7        3.333333            2   \n",
              "536137  2.570417        6       6           7        3.666667            2   \n",
              "\n",
              "        sld  len  subdomain  Label  \n",
              "0       224   11          1      1  \n",
              "1       224   11          1      1  \n",
              "2       192   13          1      1  \n",
              "3       192   13          1      1  \n",
              "4       192   14          1      1  \n",
              "...     ...  ...        ...    ...  \n",
              "536133  192   14          1      0  \n",
              "536134  192   14          1      0  \n",
              "536135  192   12          1      0  \n",
              "536136  192   12          1      0  \n",
              "536137  192   14          1      0  \n",
              "\n",
              "[536138 rows x 16 columns]"
            ],
            "text/html": [
              "\n",
              "  <div id=\"df-e048fd7c-c359-4c8a-9009-4a06ea2c35fc\">\n",
              "    <div class=\"colab-df-container\">\n",
              "      <div>\n",
              "<style scoped>\n",
              "    .dataframe tbody tr th:only-of-type {\n",
              "        vertical-align: middle;\n",
              "    }\n",
              "\n",
              "    .dataframe tbody tr th {\n",
              "        vertical-align: top;\n",
              "    }\n",
              "\n",
              "    .dataframe thead th {\n",
              "        text-align: right;\n",
              "    }\n",
              "</style>\n",
              "<table border=\"1\" class=\"dataframe\">\n",
              "  <thead>\n",
              "    <tr style=\"text-align: right;\">\n",
              "      <th></th>\n",
              "      <th>timestamp</th>\n",
              "      <th>FQDN_count</th>\n",
              "      <th>subdomain_length</th>\n",
              "      <th>upper</th>\n",
              "      <th>lower</th>\n",
              "      <th>numeric</th>\n",
              "      <th>entropy</th>\n",
              "      <th>special</th>\n",
              "      <th>labels</th>\n",
              "      <th>labels_max</th>\n",
              "      <th>labels_average</th>\n",
              "      <th>longest_word</th>\n",
              "      <th>sld</th>\n",
              "      <th>len</th>\n",
              "      <th>subdomain</th>\n",
              "      <th>Label</th>\n",
              "    </tr>\n",
              "  </thead>\n",
              "  <tbody>\n",
              "    <tr>\n",
              "      <th>0</th>\n",
              "      <td>58:50.7</td>\n",
              "      <td>24</td>\n",
              "      <td>7</td>\n",
              "      <td>0</td>\n",
              "      <td>10</td>\n",
              "      <td>8</td>\n",
              "      <td>2.054029</td>\n",
              "      <td>6</td>\n",
              "      <td>6</td>\n",
              "      <td>7</td>\n",
              "      <td>3.166667</td>\n",
              "      <td>4</td>\n",
              "      <td>224</td>\n",
              "      <td>11</td>\n",
              "      <td>1</td>\n",
              "      <td>1</td>\n",
              "    </tr>\n",
              "    <tr>\n",
              "      <th>1</th>\n",
              "      <td>58:50.3</td>\n",
              "      <td>24</td>\n",
              "      <td>7</td>\n",
              "      <td>0</td>\n",
              "      <td>10</td>\n",
              "      <td>8</td>\n",
              "      <td>2.054029</td>\n",
              "      <td>6</td>\n",
              "      <td>6</td>\n",
              "      <td>7</td>\n",
              "      <td>3.166667</td>\n",
              "      <td>4</td>\n",
              "      <td>224</td>\n",
              "      <td>11</td>\n",
              "      <td>1</td>\n",
              "      <td>1</td>\n",
              "    </tr>\n",
              "    <tr>\n",
              "      <th>2</th>\n",
              "      <td>58:49.9</td>\n",
              "      <td>26</td>\n",
              "      <td>9</td>\n",
              "      <td>0</td>\n",
              "      <td>10</td>\n",
              "      <td>10</td>\n",
              "      <td>2.742338</td>\n",
              "      <td>6</td>\n",
              "      <td>6</td>\n",
              "      <td>7</td>\n",
              "      <td>3.500000</td>\n",
              "      <td>2</td>\n",
              "      <td>192</td>\n",
              "      <td>13</td>\n",
              "      <td>1</td>\n",
              "      <td>1</td>\n",
              "    </tr>\n",
              "    <tr>\n",
              "      <th>3</th>\n",
              "      <td>58:49.5</td>\n",
              "      <td>26</td>\n",
              "      <td>9</td>\n",
              "      <td>0</td>\n",
              "      <td>10</td>\n",
              "      <td>10</td>\n",
              "      <td>2.742338</td>\n",
              "      <td>6</td>\n",
              "      <td>6</td>\n",
              "      <td>7</td>\n",
              "      <td>3.500000</td>\n",
              "      <td>2</td>\n",
              "      <td>192</td>\n",
              "      <td>13</td>\n",
              "      <td>1</td>\n",
              "      <td>1</td>\n",
              "    </tr>\n",
              "    <tr>\n",
              "      <th>4</th>\n",
              "      <td>58:49.1</td>\n",
              "      <td>27</td>\n",
              "      <td>10</td>\n",
              "      <td>0</td>\n",
              "      <td>10</td>\n",
              "      <td>11</td>\n",
              "      <td>2.767195</td>\n",
              "      <td>6</td>\n",
              "      <td>6</td>\n",
              "      <td>7</td>\n",
              "      <td>3.666667</td>\n",
              "      <td>2</td>\n",
              "      <td>192</td>\n",
              "      <td>14</td>\n",
              "      <td>1</td>\n",
              "      <td>1</td>\n",
              "    </tr>\n",
              "    <tr>\n",
              "      <th>...</th>\n",
              "      <td>...</td>\n",
              "      <td>...</td>\n",
              "      <td>...</td>\n",
              "      <td>...</td>\n",
              "      <td>...</td>\n",
              "      <td>...</td>\n",
              "      <td>...</td>\n",
              "      <td>...</td>\n",
              "      <td>...</td>\n",
              "      <td>...</td>\n",
              "      <td>...</td>\n",
              "      <td>...</td>\n",
              "      <td>...</td>\n",
              "      <td>...</td>\n",
              "      <td>...</td>\n",
              "      <td>...</td>\n",
              "    </tr>\n",
              "    <tr>\n",
              "      <th>536133</th>\n",
              "      <td>18:56.6</td>\n",
              "      <td>27</td>\n",
              "      <td>10</td>\n",
              "      <td>0</td>\n",
              "      <td>10</td>\n",
              "      <td>11</td>\n",
              "      <td>2.767195</td>\n",
              "      <td>6</td>\n",
              "      <td>6</td>\n",
              "      <td>7</td>\n",
              "      <td>3.666667</td>\n",
              "      <td>2</td>\n",
              "      <td>192</td>\n",
              "      <td>14</td>\n",
              "      <td>1</td>\n",
              "      <td>0</td>\n",
              "    </tr>\n",
              "    <tr>\n",
              "      <th>536134</th>\n",
              "      <td>18:56.2</td>\n",
              "      <td>27</td>\n",
              "      <td>10</td>\n",
              "      <td>0</td>\n",
              "      <td>10</td>\n",
              "      <td>11</td>\n",
              "      <td>2.767195</td>\n",
              "      <td>6</td>\n",
              "      <td>6</td>\n",
              "      <td>7</td>\n",
              "      <td>3.666667</td>\n",
              "      <td>2</td>\n",
              "      <td>192</td>\n",
              "      <td>14</td>\n",
              "      <td>1</td>\n",
              "      <td>0</td>\n",
              "    </tr>\n",
              "    <tr>\n",
              "      <th>536135</th>\n",
              "      <td>18:55.8</td>\n",
              "      <td>25</td>\n",
              "      <td>8</td>\n",
              "      <td>0</td>\n",
              "      <td>10</td>\n",
              "      <td>9</td>\n",
              "      <td>2.556642</td>\n",
              "      <td>6</td>\n",
              "      <td>6</td>\n",
              "      <td>7</td>\n",
              "      <td>3.333333</td>\n",
              "      <td>2</td>\n",
              "      <td>192</td>\n",
              "      <td>12</td>\n",
              "      <td>1</td>\n",
              "      <td>0</td>\n",
              "    </tr>\n",
              "    <tr>\n",
              "      <th>536136</th>\n",
              "      <td>18:55.4</td>\n",
              "      <td>25</td>\n",
              "      <td>8</td>\n",
              "      <td>0</td>\n",
              "      <td>10</td>\n",
              "      <td>9</td>\n",
              "      <td>2.556642</td>\n",
              "      <td>6</td>\n",
              "      <td>6</td>\n",
              "      <td>7</td>\n",
              "      <td>3.333333</td>\n",
              "      <td>2</td>\n",
              "      <td>192</td>\n",
              "      <td>12</td>\n",
              "      <td>1</td>\n",
              "      <td>0</td>\n",
              "    </tr>\n",
              "    <tr>\n",
              "      <th>536137</th>\n",
              "      <td>18:55.0</td>\n",
              "      <td>27</td>\n",
              "      <td>10</td>\n",
              "      <td>0</td>\n",
              "      <td>10</td>\n",
              "      <td>11</td>\n",
              "      <td>2.570417</td>\n",
              "      <td>6</td>\n",
              "      <td>6</td>\n",
              "      <td>7</td>\n",
              "      <td>3.666667</td>\n",
              "      <td>2</td>\n",
              "      <td>192</td>\n",
              "      <td>14</td>\n",
              "      <td>1</td>\n",
              "      <td>0</td>\n",
              "    </tr>\n",
              "  </tbody>\n",
              "</table>\n",
              "<p>536138 rows × 16 columns</p>\n",
              "</div>\n",
              "      <button class=\"colab-df-convert\" onclick=\"convertToInteractive('df-e048fd7c-c359-4c8a-9009-4a06ea2c35fc')\"\n",
              "              title=\"Convert this dataframe to an interactive table.\"\n",
              "              style=\"display:none;\">\n",
              "        \n",
              "  <svg xmlns=\"http://www.w3.org/2000/svg\" height=\"24px\"viewBox=\"0 0 24 24\"\n",
              "       width=\"24px\">\n",
              "    <path d=\"M0 0h24v24H0V0z\" fill=\"none\"/>\n",
              "    <path d=\"M18.56 5.44l.94 2.06.94-2.06 2.06-.94-2.06-.94-.94-2.06-.94 2.06-2.06.94zm-11 1L8.5 8.5l.94-2.06 2.06-.94-2.06-.94L8.5 2.5l-.94 2.06-2.06.94zm10 10l.94 2.06.94-2.06 2.06-.94-2.06-.94-.94-2.06-.94 2.06-2.06.94z\"/><path d=\"M17.41 7.96l-1.37-1.37c-.4-.4-.92-.59-1.43-.59-.52 0-1.04.2-1.43.59L10.3 9.45l-7.72 7.72c-.78.78-.78 2.05 0 2.83L4 21.41c.39.39.9.59 1.41.59.51 0 1.02-.2 1.41-.59l7.78-7.78 2.81-2.81c.8-.78.8-2.07 0-2.86zM5.41 20L4 18.59l7.72-7.72 1.47 1.35L5.41 20z\"/>\n",
              "  </svg>\n",
              "      </button>\n",
              "      \n",
              "  <style>\n",
              "    .colab-df-container {\n",
              "      display:flex;\n",
              "      flex-wrap:wrap;\n",
              "      gap: 12px;\n",
              "    }\n",
              "\n",
              "    .colab-df-convert {\n",
              "      background-color: #E8F0FE;\n",
              "      border: none;\n",
              "      border-radius: 50%;\n",
              "      cursor: pointer;\n",
              "      display: none;\n",
              "      fill: #1967D2;\n",
              "      height: 32px;\n",
              "      padding: 0 0 0 0;\n",
              "      width: 32px;\n",
              "    }\n",
              "\n",
              "    .colab-df-convert:hover {\n",
              "      background-color: #E2EBFA;\n",
              "      box-shadow: 0px 1px 2px rgba(60, 64, 67, 0.3), 0px 1px 3px 1px rgba(60, 64, 67, 0.15);\n",
              "      fill: #174EA6;\n",
              "    }\n",
              "\n",
              "    [theme=dark] .colab-df-convert {\n",
              "      background-color: #3B4455;\n",
              "      fill: #D2E3FC;\n",
              "    }\n",
              "\n",
              "    [theme=dark] .colab-df-convert:hover {\n",
              "      background-color: #434B5C;\n",
              "      box-shadow: 0px 1px 3px 1px rgba(0, 0, 0, 0.15);\n",
              "      filter: drop-shadow(0px 1px 2px rgba(0, 0, 0, 0.3));\n",
              "      fill: #FFFFFF;\n",
              "    }\n",
              "  </style>\n",
              "\n",
              "      <script>\n",
              "        const buttonEl =\n",
              "          document.querySelector('#df-e048fd7c-c359-4c8a-9009-4a06ea2c35fc button.colab-df-convert');\n",
              "        buttonEl.style.display =\n",
              "          google.colab.kernel.accessAllowed ? 'block' : 'none';\n",
              "\n",
              "        async function convertToInteractive(key) {\n",
              "          const element = document.querySelector('#df-e048fd7c-c359-4c8a-9009-4a06ea2c35fc');\n",
              "          const dataTable =\n",
              "            await google.colab.kernel.invokeFunction('convertToInteractive',\n",
              "                                                     [key], {});\n",
              "          if (!dataTable) return;\n",
              "\n",
              "          const docLinkHtml = 'Like what you see? Visit the ' +\n",
              "            '<a target=\"_blank\" href=https://colab.research.google.com/notebooks/data_table.ipynb>data table notebook</a>'\n",
              "            + ' to learn more about interactive tables.';\n",
              "          element.innerHTML = '';\n",
              "          dataTable['output_type'] = 'display_data';\n",
              "          await google.colab.output.renderOutput(dataTable, element);\n",
              "          const docLink = document.createElement('div');\n",
              "          docLink.innerHTML = docLinkHtml;\n",
              "          element.appendChild(docLink);\n",
              "        }\n",
              "      </script>\n",
              "    </div>\n",
              "  </div>\n",
              "  "
            ]
          },
          "metadata": {},
          "execution_count": 34
        }
      ]
    },
    {
      "cell_type": "code",
      "source": [
        "data.info()"
      ],
      "metadata": {
        "colab": {
          "base_uri": "https://localhost:8080/"
        },
        "id": "0iMY1aQ1P5vX",
        "outputId": "3c8cfba6-83f3-4052-8917-d6d0a9d6a993"
      },
      "execution_count": 35,
      "outputs": [
        {
          "output_type": "stream",
          "name": "stdout",
          "text": [
            "<class 'pandas.core.frame.DataFrame'>\n",
            "RangeIndex: 536138 entries, 0 to 536137\n",
            "Data columns (total 16 columns):\n",
            " #   Column            Non-Null Count   Dtype  \n",
            "---  ------            --------------   -----  \n",
            " 0   timestamp         536138 non-null  object \n",
            " 1   FQDN_count        536138 non-null  int64  \n",
            " 2   subdomain_length  536138 non-null  int64  \n",
            " 3   upper             536138 non-null  int64  \n",
            " 4   lower             536138 non-null  int64  \n",
            " 5   numeric           536138 non-null  int64  \n",
            " 6   entropy           536138 non-null  float64\n",
            " 7   special           536138 non-null  int64  \n",
            " 8   labels            536138 non-null  int64  \n",
            " 9   labels_max        536138 non-null  int64  \n",
            " 10  labels_average    536138 non-null  float64\n",
            " 11  longest_word      536124 non-null  object \n",
            " 12  sld               536138 non-null  object \n",
            " 13  len               536138 non-null  int64  \n",
            " 14  subdomain         536138 non-null  int64  \n",
            " 15  Label             536138 non-null  int64  \n",
            "dtypes: float64(2), int64(11), object(3)\n",
            "memory usage: 65.4+ MB\n"
          ]
        }
      ]
    },
    {
      "cell_type": "markdown",
      "source": [
        "# Data Preprocessing"
      ],
      "metadata": {
        "id": "KBm98XNj4QNB"
      }
    },
    {
      "cell_type": "code",
      "source": [
        "#drop timestamp column\n",
        "data=data.drop(columns=['timestamp'])  \n",
        "le = LabelEncoder()\n",
        "for column in data.columns:\n",
        "    data['longest_word'] = le.fit_transform(data['longest_word'])\n",
        "for column in data.columns:\n",
        "    data['sld'] = le.fit_transform(data['sld'])"
      ],
      "metadata": {
        "id": "RXC_HiykhKID"
      },
      "execution_count": 44,
      "outputs": []
    },
    {
      "cell_type": "code",
      "source": [
        "y = data['Label']\n",
        "x=data.loc[:, data.columns != 'Label'] "
      ],
      "metadata": {
        "id": "K19_XQo06p_U"
      },
      "execution_count": 45,
      "outputs": []
    },
    {
      "cell_type": "code",
      "source": [
        "X_train, X_test, y_train, y_test = train_test_split(\n",
        " x, y, test_size=0.28, random_state=42)"
      ],
      "metadata": {
        "id": "0uNJJ6XO7s3L"
      },
      "execution_count": 46,
      "outputs": []
    },
    {
      "cell_type": "markdown",
      "source": [
        "# RandomForestClassifier model"
      ],
      "metadata": {
        "id": "3jIBE1e326nZ"
      }
    },
    {
      "cell_type": "code",
      "source": [
        "clf = RandomForestClassifier(random_state=0 ,n_estimators=250 ,max_depth=26,bootstrap='true')\n",
        "clf.fit(X_train, y_train)\n",
        "y_pred = clf.predict(X_test)\n",
        "accuracy = accuracy_score(y_test, y_pred)\n",
        "print('Accuracy for RandomForestClassifier is :',accuracy*100)\n",
        "f1_score = f1_score(y_test, y_pred)\n",
        "print('f1_score for RandomForestClassifier is :' ,f1_score )"
      ],
      "metadata": {
        "colab": {
          "base_uri": "https://localhost:8080/"
        },
        "id": "V-xQ5RPv5JXc",
        "outputId": "cbff4ad6-6414-43f7-8558-1cfd797a10ab"
      },
      "execution_count": 39,
      "outputs": [
        {
          "output_type": "stream",
          "name": "stdout",
          "text": [
            "Accuracy for RandomForestClassifier is : 82.25341229291429\n",
            "f1_score for RandomForestClassifier is : 0.8611818897104417\n"
          ]
        }
      ]
    },
    {
      "cell_type": "code",
      "source": [
        "print(\"Classification report for RandomForestClassifier :\\n\", classification_report(y_test, y_pred))"
      ],
      "metadata": {
        "colab": {
          "base_uri": "https://localhost:8080/"
        },
        "id": "3DS9QlDOHDGK",
        "outputId": "8ff2585f-afa4-433f-87c7-290268142cbb"
      },
      "execution_count": 40,
      "outputs": [
        {
          "output_type": "stream",
          "name": "stdout",
          "text": [
            "Classification report for RandomForestClassifier :\n",
            "               precision    recall  f1-score   support\n",
            "\n",
            "           0       1.00      0.61      0.75     67472\n",
            "           1       0.76      1.00      0.86     82647\n",
            "\n",
            "    accuracy                           0.82    150119\n",
            "   macro avg       0.88      0.80      0.81    150119\n",
            "weighted avg       0.87      0.82      0.81    150119\n",
            "\n"
          ]
        }
      ]
    },
    {
      "cell_type": "code",
      "source": [
        "confusion_matrix(y_test, y_pred)\n",
        "plot_confusion_matrix(clf,X_test,y_test)"
      ],
      "metadata": {
        "colab": {
          "base_uri": "https://localhost:8080/",
          "height": 296
        },
        "id": "jz0WYQA9Cj-u",
        "outputId": "66b62c39-fe13-4663-d099-88f86caa44fb"
      },
      "execution_count": 10,
      "outputs": [
        {
          "output_type": "execute_result",
          "data": {
            "text/plain": [
              "<sklearn.metrics._plot.confusion_matrix.ConfusionMatrixDisplay at 0x7f1c10a07350>"
            ]
          },
          "metadata": {},
          "execution_count": 10
        },
        {
          "output_type": "display_data",
          "data": {
            "text/plain": [
              "<Figure size 432x288 with 2 Axes>"
            ],
            "image/png": "[encoded data removed]"
          },
          "metadata": {
            "needs_background": "light"
          }
        }
      ]
    },
    {
      "cell_type": "markdown",
      "source": [
        "# LogisticRegression classifier"
      ],
      "metadata": {
        "id": "XxKNoi3W20qw"
      }
    },
    {
      "cell_type": "code",
      "source": [
        "LR_clf = LogisticRegression(max_iter=1000)\n",
        "LR_clf.fit(X_train,y_train)\n",
        "y_pred_LR= LR_clf.predict(X_test)\n",
        "accuracy_LR = accuracy_score(y_test, y_pred_LR)\n",
        "print('Accuracy is :',accuracy_LR*100)\n",
        "f1_score_LR= f1_score(y_test, y_pred_LR)\n",
        "print('f1_score is :' ,f1_score_LR )"
      ],
      "metadata": {
        "colab": {
          "base_uri": "https://localhost:8080/"
        },
        "id": "Z4gFISIy2ymc",
        "outputId": "657f03ed-b414-4451-9f27-e2563414e8b7"
      },
      "execution_count": 47,
      "outputs": [
        {
          "output_type": "stream",
          "name": "stdout",
          "text": [
            "Accuracy is : 82.05889993938142\n",
            "f1_score is : 0.8593672492206794\n"
          ]
        }
      ]
    },
    {
      "cell_type": "code",
      "source": [
        "print(\"Classification report for LogisticRegression :\\n\", classification_report(y_test, y_pred_LR))"
      ],
      "metadata": {
        "colab": {
          "base_uri": "https://localhost:8080/"
        },
        "id": "bOPmW0qf3Gxg",
        "outputId": "0d6f817b-67db-4bb3-af15-c13e9119381d"
      },
      "execution_count": 48,
      "outputs": [
        {
          "output_type": "stream",
          "name": "stdout",
          "text": [
            "Classification report for LogisticRegression :\n",
            "               precision    recall  f1-score   support\n",
            "\n",
            "           0       0.99      0.61      0.75     67472\n",
            "           1       0.76      1.00      0.86     82647\n",
            "\n",
            "    accuracy                           0.82    150119\n",
            "   macro avg       0.87      0.80      0.81    150119\n",
            "weighted avg       0.86      0.82      0.81    150119\n",
            "\n"
          ]
        }
      ]
    },
    {
      "cell_type": "code",
      "source": [
        "confusion_matrix(y_test, y_pred_LR)\n",
        "plot_confusion_matrix(LR_clf,X_test,y_test)"
      ],
      "metadata": {
        "colab": {
          "base_uri": "https://localhost:8080/",
          "height": 296
        },
        "id": "-JzQ81Nh3UQo",
        "outputId": "0c0dbf37-dafd-4f8d-c731-6d45b89475cf"
      },
      "execution_count": 18,
      "outputs": [
        {
          "output_type": "execute_result",
          "data": {
            "text/plain": [
              "<sklearn.metrics._plot.confusion_matrix.ConfusionMatrixDisplay at 0x7f1c0cda6b50>"
            ]
          },
          "metadata": {},
          "execution_count": 18
        },
        {
          "output_type": "display_data",
          "data": {
            "text/plain": [
              "<Figure size 432x288 with 2 Axes>"
            ],
            "image/png": "[encoded data removed]"
          },
          "metadata": {
            "needs_background": "light"
          }
        }
      ]
    },
    {
      "cell_type": "markdown",
      "source": [
        "# AdaBoostClassifier"
      ],
      "metadata": {
        "id": "k62a4PHi3hAQ"
      }
    },
    {
      "cell_type": "code",
      "source": [
        "#grid searcg to know the best parameters\n",
        "model = AdaBoostClassifier()\n",
        "grid = dict()\n",
        "grid['n_estimators'] = [10, 50, 100, 500]\n",
        "grid['learning_rate'] = [0.0001, 0.001, 0.01, 0.1, 1.0]\n",
        "grid_search = GridSearchCV(estimator=model, param_grid=grid, n_jobs=-1, cv=10, scoring='accuracy')\n",
        "grid_result = grid_search.fit(x, y)\n",
        "print(\"Best: %f using %s\" % (grid_result.best_score_, grid_result.best_params_))"
      ],
      "metadata": {
        "id": "kuq6g6lMi3jG",
        "colab": {
          "base_uri": "https://localhost:8080/"
        },
        "outputId": "a142fbc9-90e1-405a-e8ff-b393b2f74542"
      },
      "execution_count": null,
      "outputs": [
        {
          "output_type": "stream",
          "name": "stdout",
          "text": [
            "Best: 0.820598 using {'learning_rate': 1.0, 'n_estimators': 500}\n"
          ]
        }
      ]
    },
    {
      "cell_type": "code",
      "source": [
        "clf2 = AdaBoostClassifier(random_state=0,learning_rate= 1.0, n_estimators= 500)\n",
        "clf2.fit(X_train, y_train)\n",
        "y_pred2 = clf2.predict(X_test)\n",
        "#print(y_pred)\n",
        "accuracy2 = accuracy_score(y_test, y_pred2)\n",
        "print('Accuracy for AdaBoostClassifier is :',accuracy2*100)\n",
        "f1_sc2 = f1_score(y_test,y_pred2)\n",
        "print('f1_score for AdaBoostClassifier is :' ,f1_sc2 )"
      ],
      "metadata": {
        "colab": {
          "base_uri": "https://localhost:8080/"
        },
        "id": "xm-9mAh0Py23",
        "outputId": "7a1beb89-b7f9-4fc3-95ce-993ccbbb0c38"
      },
      "execution_count": 29,
      "outputs": [
        {
          "output_type": "stream",
          "name": "stdout",
          "text": [
            "Accuracy for AdaBoostClassifier is : 82.18280164402907\n",
            "f1_score for AdaBoostClassifier is : 0.860553988603246\n"
          ]
        }
      ]
    },
    {
      "cell_type": "code",
      "source": [
        "print(\"Classification report for AdaBoostClassifier :\\n\", classification_report(y_test, y_pred2))"
      ],
      "metadata": {
        "colab": {
          "base_uri": "https://localhost:8080/"
        },
        "id": "UPBhP-IS4BGA",
        "outputId": "58aecab8-2273-4522-fbbe-65226b52fcbb"
      },
      "execution_count": 30,
      "outputs": [
        {
          "output_type": "stream",
          "name": "stdout",
          "text": [
            "Classification report for AdaBoostClassifier :\n",
            "               precision    recall  f1-score   support\n",
            "\n",
            "           0       1.00      0.61      0.75     67472\n",
            "           1       0.76      1.00      0.86     82647\n",
            "\n",
            "    accuracy                           0.82    150119\n",
            "   macro avg       0.88      0.80      0.81    150119\n",
            "weighted avg       0.86      0.82      0.81    150119\n",
            "\n"
          ]
        }
      ]
    },
    {
      "cell_type": "code",
      "source": [
        "confusion_matrix(y_test, y_pred2)\n",
        "plot_confusion_matrix(clf2,X_test,y_test)"
      ],
      "metadata": {
        "colab": {
          "base_uri": "https://localhost:8080/",
          "height": 296
        },
        "id": "n7Wh3D3X37GH",
        "outputId": "7bfe4e29-749b-499e-cfea-920ffdeadf61"
      },
      "execution_count": 31,
      "outputs": [
        {
          "output_type": "execute_result",
          "data": {
            "text/plain": [
              "<sklearn.metrics._plot.confusion_matrix.ConfusionMatrixDisplay at 0x7f1c0cd60250>"
            ]
          },
          "metadata": {},
          "execution_count": 31
        },
        {
          "output_type": "display_data",
          "data": {
            "text/plain": [
              "<Figure size 432x288 with 2 Axes>"
            ],
            "image/png": "[encoded data removed]"
          },
          "metadata": {
            "needs_background": "light"
          }
        }
      ]
    }
  ]
}